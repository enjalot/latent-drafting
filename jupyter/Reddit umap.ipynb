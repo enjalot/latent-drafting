{
 "cells": [
  {
   "cell_type": "code",
   "execution_count": 26,
   "metadata": {},
   "outputs": [],
   "source": [
    "import pandas as pd\n",
    "import numpy as np\n",
    "import matplotlib.pyplot as plt\n",
    "import hdbscan\n",
    "import umap"
   ]
  },
  {
   "cell_type": "code",
   "execution_count": 4,
   "metadata": {},
   "outputs": [],
   "source": [
    "# Load embeddings\n",
    "# embeddings are saved as an array of json objects\n",
    "# each json object has a key 'embedding' which is a list of floats\n",
    "# the list of floats is the embedding for the post\n",
    "# read json file\n",
    "embeddingsjson = pd.read_json(\"./embeddings/embeddings.json\")"
   ]
  },
  {
   "cell_type": "code",
   "execution_count": 5,
   "metadata": {},
   "outputs": [],
   "source": [
    "postsjson = pd.read_json(\"./posts/posts.json\")"
   ]
  },
  {
   "cell_type": "code",
   "execution_count": 6,
   "metadata": {},
   "outputs": [
    {
     "data": {
      "text/html": [
       "<div>\n",
       "<style scoped>\n",
       "    .dataframe tbody tr th:only-of-type {\n",
       "        vertical-align: middle;\n",
       "    }\n",
       "\n",
       "    .dataframe tbody tr th {\n",
       "        vertical-align: top;\n",
       "    }\n",
       "\n",
       "    .dataframe thead th {\n",
       "        text-align: right;\n",
       "    }\n",
       "</style>\n",
       "<table border=\"1\" class=\"dataframe\">\n",
       "  <thead>\n",
       "    <tr style=\"text-align: right;\">\n",
       "      <th></th>\n",
       "      <th>object</th>\n",
       "      <th>data</th>\n",
       "      <th>model</th>\n",
       "      <th>usage</th>\n",
       "      <th>id</th>\n",
       "    </tr>\n",
       "  </thead>\n",
       "  <tbody>\n",
       "    <tr>\n",
       "      <th>0</th>\n",
       "      <td>list</td>\n",
       "      <td>[{'object': 'embedding', 'index': 0, 'embeddin...</td>\n",
       "      <td>text-embedding-ada-002-v2</td>\n",
       "      <td>{'prompt_tokens': 83, 'total_tokens': 83}</td>\n",
       "      <td>hs9mnz</td>\n",
       "    </tr>\n",
       "    <tr>\n",
       "      <th>1</th>\n",
       "      <td>list</td>\n",
       "      <td>[{'object': 'embedding', 'index': 0, 'embeddin...</td>\n",
       "      <td>text-embedding-ada-002-v2</td>\n",
       "      <td>{'prompt_tokens': 95, 'total_tokens': 95}</td>\n",
       "      <td>i9ljw9</td>\n",
       "    </tr>\n",
       "    <tr>\n",
       "      <th>2</th>\n",
       "      <td>list</td>\n",
       "      <td>[{'object': 'embedding', 'index': 0, 'embeddin...</td>\n",
       "      <td>text-embedding-ada-002-v2</td>\n",
       "      <td>{'prompt_tokens': 90, 'total_tokens': 90}</td>\n",
       "      <td>fxucds</td>\n",
       "    </tr>\n",
       "    <tr>\n",
       "      <th>3</th>\n",
       "      <td>list</td>\n",
       "      <td>[{'object': 'embedding', 'index': 0, 'embeddin...</td>\n",
       "      <td>text-embedding-ada-002-v2</td>\n",
       "      <td>{'prompt_tokens': 92, 'total_tokens': 92}</td>\n",
       "      <td>b5f9wi</td>\n",
       "    </tr>\n",
       "    <tr>\n",
       "      <th>4</th>\n",
       "      <td>list</td>\n",
       "      <td>[{'object': 'embedding', 'index': 0, 'embeddin...</td>\n",
       "      <td>text-embedding-ada-002-v2</td>\n",
       "      <td>{'prompt_tokens': 80, 'total_tokens': 80}</td>\n",
       "      <td>hni7zy</td>\n",
       "    </tr>\n",
       "  </tbody>\n",
       "</table>\n",
       "</div>"
      ],
      "text/plain": [
       "  object                                               data  \\\n",
       "0   list  [{'object': 'embedding', 'index': 0, 'embeddin...   \n",
       "1   list  [{'object': 'embedding', 'index': 0, 'embeddin...   \n",
       "2   list  [{'object': 'embedding', 'index': 0, 'embeddin...   \n",
       "3   list  [{'object': 'embedding', 'index': 0, 'embeddin...   \n",
       "4   list  [{'object': 'embedding', 'index': 0, 'embeddin...   \n",
       "\n",
       "                       model                                      usage  \\\n",
       "0  text-embedding-ada-002-v2  {'prompt_tokens': 83, 'total_tokens': 83}   \n",
       "1  text-embedding-ada-002-v2  {'prompt_tokens': 95, 'total_tokens': 95}   \n",
       "2  text-embedding-ada-002-v2  {'prompt_tokens': 90, 'total_tokens': 90}   \n",
       "3  text-embedding-ada-002-v2  {'prompt_tokens': 92, 'total_tokens': 92}   \n",
       "4  text-embedding-ada-002-v2  {'prompt_tokens': 80, 'total_tokens': 80}   \n",
       "\n",
       "       id  \n",
       "0  hs9mnz  \n",
       "1  i9ljw9  \n",
       "2  fxucds  \n",
       "3  b5f9wi  \n",
       "4  hni7zy  "
      ]
     },
     "execution_count": 6,
     "metadata": {},
     "output_type": "execute_result"
    }
   ],
   "source": [
    "embeddingsjson.head()"
   ]
  },
  {
   "cell_type": "code",
   "execution_count": 50,
   "metadata": {},
   "outputs": [],
   "source": [
    "# embeddingsjson[\"data\"].values[0][0]['embedding']"
   ]
  },
  {
   "cell_type": "code",
   "execution_count": 7,
   "metadata": {},
   "outputs": [],
   "source": [
    "# convert json to a numpy array that can be fed to umap\n",
    "embeddings = np.array([np.array(x[0]['embedding']) for x in embeddingsjson['data'].values])"
   ]
  },
  {
   "cell_type": "code",
   "execution_count": 8,
   "metadata": {},
   "outputs": [
    {
     "data": {
      "text/plain": [
       "(995, 1536)"
      ]
     },
     "execution_count": 8,
     "metadata": {},
     "output_type": "execute_result"
    }
   ],
   "source": [
    "embeddings.shape"
   ]
  },
  {
   "cell_type": "code",
   "execution_count": 23,
   "metadata": {},
   "outputs": [],
   "source": [
    "# reduce dimensionality with umap\n",
    "reducer = umap.UMAP(\n",
    "    n_neighbors=25,\n",
    "    min_dist=0.05,\n",
    "    metric='cosine',\n",
    "    random_state=42,\n",
    "    n_components=2,\n",
    "    verbose=True\n",
    ")"
   ]
  },
  {
   "cell_type": "code",
   "execution_count": 24,
   "metadata": {},
   "outputs": [
    {
     "name": "stdout",
     "output_type": "stream",
     "text": [
      "UMAP(angular_rp_forest=True, metric='cosine', min_dist=0.05, n_neighbors=25, random_state=42, verbose=True)\n",
      "Fri Apr 14 23:12:07 2023 Construct fuzzy simplicial set\n",
      "Fri Apr 14 23:12:08 2023 Finding Nearest Neighbors\n",
      "Fri Apr 14 23:12:08 2023 Finished Nearest Neighbor Search\n",
      "Fri Apr 14 23:12:08 2023 Construct embedding\n"
     ]
    },
    {
     "data": {
      "application/vnd.jupyter.widget-view+json": {
       "model_id": "00da7c689257408dac44e5914906e49d",
       "version_major": 2,
       "version_minor": 0
      },
      "text/plain": [
       "Epochs completed:   0%|            0/500 [00:00]"
      ]
     },
     "metadata": {},
     "output_type": "display_data"
    },
    {
     "name": "stdout",
     "output_type": "stream",
     "text": [
      "Fri Apr 14 23:12:10 2023 Finished embedding\n"
     ]
    }
   ],
   "source": [
    "embedding = reducer.fit_transform(embeddings)"
   ]
  },
  {
   "cell_type": "code",
   "execution_count": 11,
   "metadata": {},
   "outputs": [
    {
     "data": {
      "text/plain": [
       "(995, 2)"
      ]
     },
     "execution_count": 11,
     "metadata": {},
     "output_type": "execute_result"
    }
   ],
   "source": [
    "embedding.shape"
   ]
  },
  {
   "cell_type": "code",
   "execution_count": 19,
   "metadata": {},
   "outputs": [
    {
     "name": "stderr",
     "output_type": "stream",
     "text": [
      "/var/folders/sx/rrvr6l_d5x1_g46jxlx5ypfc0000gn/T/ipykernel_78086/957914067.py:6: UserWarning: No data for colormapping provided via 'c'. Parameters 'cmap' will be ignored\n",
      "  plt.scatter(embedding[:, 0], embedding[:, 1], s=3, cmap='Spectral')\n"
     ]
    },
    {
     "data": {
      "image/png": "[encoded data removed]",
      "text/plain": [
       "<Figure size 1400x1000 with 1 Axes>"
      ]
     },
     "metadata": {},
     "output_type": "display_data"
    }
   ],
   "source": [
    "# plot embedding\n",
    "plt.scatter(embedding[:, 0], embedding[:, 1], s=3, cmap='Spectral')\n",
    "plt.show()"
   ]
  },
  {
   "cell_type": "code",
   "execution_count": 13,
   "metadata": {},
   "outputs": [],
   "source": [
    "#write embedding to csv file with header x,y\n",
    "np.savetxt(\"./posts/reddit-umap25.05.csv\", embedding, delimiter=\",\", header=\"x,y\", comments='')"
   ]
  },
  {
   "cell_type": "code",
   "execution_count": 45,
   "metadata": {},
   "outputs": [],
   "source": [
    "# Create an HDBSCAN instance with custom parameters\n",
    "clusterer = hdbscan.HDBSCAN(min_cluster_size=5, min_samples=5)\n",
    "\n"
   ]
  },
  {
   "cell_type": "code",
   "execution_count": 46,
   "metadata": {},
   "outputs": [
    {
     "data": {
      "text/html": [
       "<style>#sk-container-id-4 {color: black;background-color: white;}#sk-container-id-4 pre{padding: 0;}#sk-container-id-4 div.sk-toggleable {background-color: white;}#sk-container-id-4 label.sk-toggleable__label {cursor: pointer;display: block;width: 100%;margin-bottom: 0;padding: 0.3em;box-sizing: border-box;text-align: center;}#sk-container-id-4 label.sk-toggleable__label-arrow:before {content: \"▸\";float: left;margin-right: 0.25em;color: #696969;}#sk-container-id-4 label.sk-toggleable__label-arrow:hover:before {color: black;}#sk-container-id-4 div.sk-estimator:hover label.sk-toggleable__label-arrow:before {color: black;}#sk-container-id-4 div.sk-toggleable__content {max-height: 0;max-width: 0;overflow: hidden;text-align: left;background-color: #f0f8ff;}#sk-container-id-4 div.sk-toggleable__content pre {margin: 0.2em;color: black;border-radius: 0.25em;background-color: #f0f8ff;}#sk-container-id-4 input.sk-toggleable__control:checked~div.sk-toggleable__content {max-height: 200px;max-width: 100%;overflow: auto;}#sk-container-id-4 input.sk-toggleable__control:checked~label.sk-toggleable__label-arrow:before {content: \"▾\";}#sk-container-id-4 div.sk-estimator input.sk-toggleable__control:checked~label.sk-toggleable__label {background-color: #d4ebff;}#sk-container-id-4 div.sk-label input.sk-toggleable__control:checked~label.sk-toggleable__label {background-color: #d4ebff;}#sk-container-id-4 input.sk-hidden--visually {border: 0;clip: rect(1px 1px 1px 1px);clip: rect(1px, 1px, 1px, 1px);height: 1px;margin: -1px;overflow: hidden;padding: 0;position: absolute;width: 1px;}#sk-container-id-4 div.sk-estimator {font-family: monospace;background-color: #f0f8ff;border: 1px dotted black;border-radius: 0.25em;box-sizing: border-box;margin-bottom: 0.5em;}#sk-container-id-4 div.sk-estimator:hover {background-color: #d4ebff;}#sk-container-id-4 div.sk-parallel-item::after {content: \"\";width: 100%;border-bottom: 1px solid gray;flex-grow: 1;}#sk-container-id-4 div.sk-label:hover label.sk-toggleable__label {background-color: #d4ebff;}#sk-container-id-4 div.sk-serial::before {content: \"\";position: absolute;border-left: 1px solid gray;box-sizing: border-box;top: 0;bottom: 0;left: 50%;z-index: 0;}#sk-container-id-4 div.sk-serial {display: flex;flex-direction: column;align-items: center;background-color: white;padding-right: 0.2em;padding-left: 0.2em;position: relative;}#sk-container-id-4 div.sk-item {position: relative;z-index: 1;}#sk-container-id-4 div.sk-parallel {display: flex;align-items: stretch;justify-content: center;background-color: white;position: relative;}#sk-container-id-4 div.sk-item::before, #sk-container-id-4 div.sk-parallel-item::before {content: \"\";position: absolute;border-left: 1px solid gray;box-sizing: border-box;top: 0;bottom: 0;left: 50%;z-index: -1;}#sk-container-id-4 div.sk-parallel-item {display: flex;flex-direction: column;z-index: 1;position: relative;background-color: white;}#sk-container-id-4 div.sk-parallel-item:first-child::after {align-self: flex-end;width: 50%;}#sk-container-id-4 div.sk-parallel-item:last-child::after {align-self: flex-start;width: 50%;}#sk-container-id-4 div.sk-parallel-item:only-child::after {width: 0;}#sk-container-id-4 div.sk-dashed-wrapped {border: 1px dashed gray;margin: 0 0.4em 0.5em 0.4em;box-sizing: border-box;padding-bottom: 0.4em;background-color: white;}#sk-container-id-4 div.sk-label label {font-family: monospace;font-weight: bold;display: inline-block;line-height: 1.2em;}#sk-container-id-4 div.sk-label-container {text-align: center;}#sk-container-id-4 div.sk-container {/* jupyter's `normalize.less` sets `[hidden] { display: none; }` but bootstrap.min.css set `[hidden] { display: none !important; }` so we also need the `!important` here to be able to override the default hidden behavior on the sphinx rendered scikit-learn.org. See: https://github.com/scikit-learn/scikit-learn/issues/21755 */display: inline-block !important;position: relative;}#sk-container-id-4 div.sk-text-repr-fallback {display: none;}</style><div id=\"sk-container-id-4\" class=\"sk-top-container\"><div class=\"sk-text-repr-fallback\"><pre>HDBSCAN(min_samples=5)</pre><b>In a Jupyter environment, please rerun this cell to show the HTML representation or trust the notebook. <br />On GitHub, the HTML representation is unable to render, please try loading this page with nbviewer.org.</b></div><div class=\"sk-container\" hidden><div class=\"sk-item\"><div class=\"sk-estimator sk-toggleable\"><input class=\"sk-toggleable__control sk-hidden--visually\" id=\"sk-estimator-id-4\" type=\"checkbox\" checked><label for=\"sk-estimator-id-4\" class=\"sk-toggleable__label sk-toggleable__label-arrow\">HDBSCAN</label><div class=\"sk-toggleable__content\"><pre>HDBSCAN(min_samples=5)</pre></div></div></div></div></div>"
      ],
      "text/plain": [
       "HDBSCAN(min_samples=5)"
      ]
     },
     "execution_count": 46,
     "metadata": {},
     "output_type": "execute_result"
    }
   ],
   "source": [
    "# Fit the model to your dataset\n",
    "clusterer.fit(embedding)"
   ]
  },
  {
   "cell_type": "code",
   "execution_count": 47,
   "metadata": {},
   "outputs": [
    {
     "data": {
      "text/plain": [
       "array([41, 16, 13, 48, 10,  1, -1, -1, -1, 13, -1, 17, -1,  0,  6, 13,  1,\n",
       "       43, 40, 24, 35, 42,  5, 34, 32, -1,  1,  1,  0, 16,  1,  9, 41, 13,\n",
       "       41, -1, 47, -1, 29,  1, 34, -1, 15,  1, -1, 19, 20,  1, 22, 37, 23,\n",
       "       40, -1, -1,  1, 13, -1, 18, 13, 13,  1, 10, 13, 10, -1, 13, 13, 35,\n",
       "        0, 33, -1, -1, 34, -1, 20, -1, -1, 16, -1, 16, 13,  1, 22, -1, 19,\n",
       "       25, 13, -1,  1,  9, 13, 32, -1, 36, 23, 17, 38, 20, 13, 14, -1, 13,\n",
       "       30, -1, 22, -1, 16, -1, -1,  2, 35, 12,  3, -1, 13, 13, 13, -1, 36,\n",
       "       13,  5, 12,  1, -1, 39, 27, 22, 10, 21, 13, 33, 10, 18, -1, 42,  8,\n",
       "        1,  0, 35, 36, -1, 29, 16, 32, 10, -1, 12, 14, -1, -1, 26, -1, 10,\n",
       "       46, -1, 36, 15, 40, 10, 48, 42, 21, 34, 23, -1, -1, 15, 42, 13, -1,\n",
       "        1, 23, -1, 23, 44, -1,  8, 13, 13, 15, -1, 14,  6, 34,  3, 31, -1,\n",
       "       -1, -1, 20, 13, 21, 17, 13,  4, 13,  7, 42,  6, 20, -1, 27, 21, 36,\n",
       "       16, -1, 35, -1, 36, -1, -1, -1,  5, 42, 29, 46, 34, 43, 31, -1, 13,\n",
       "       45, 14,  0, -1, 48, -1, -1, 48,  4, 34, 11, 42,  1, -1, 22, -1, -1,\n",
       "       -1, 43, 24, 47,  1, -1, 13, -1, 24, -1, 20, 10, 10, 33, 15,  3,  8,\n",
       "       46, 27, 13, 10, 44, 18, 16, 28, 13, -1,  9,  2,  1, 47, 41, -1,  1,\n",
       "       -1, 13, -1, 31, 13, -1, -1, -1, 22,  8, 10, 37, 33, 15, -1,  2, 16,\n",
       "        0,  1, 13, 37, 34,  2, 10, -1, 25, 13,  1, 20,  2, 15, 32, -1,  8,\n",
       "       26, 36,  1, 18, 22, -1,  1,  0, 17, 43, 12, 13, 10,  9, -1, 10, -1,\n",
       "        1, -1, 13, 15, -1, -1, 48, -1, -1,  1, 27, 29,  1, -1, -1, -1, 13,\n",
       "       -1, -1, -1, 30, 34, 14, 33,  6, -1, 13, 29, 14, 37, 35, 13, 14, 42,\n",
       "       10, 13, -1, 10, 28, -1, 22, -1,  1, 13, -1, -1, -1, -1, 22, 41, 22,\n",
       "       44, -1, 36,  9, 45, 15, 30, 13, 48, 27, -1, 22, 27,  5,  1, 13, 13,\n",
       "       -1, 48, -1, -1, -1,  1, 24, 10, 32, 26,  1, 13, 28, 39, 13, -1, -1,\n",
       "       -1, -1,  0, 35, 36, 13, 26, 33, 48,  9, 18, -1,  1, 29, -1, 13, 13,\n",
       "        3,  9,  0, 21, -1,  4, 34,  0,  1, 22, 10, 19, 31, -1,  9, 20, 22,\n",
       "       -1,  7, 32, 13, 10, 40,  1, 34, 48, 14, 22, -1,  3, 16,  4, 13,  8,\n",
       "       -1, 29, 24, 13, -1,  1, 24, 10, -1, 20, 43,  1, 13, -1, 13, 35,  8,\n",
       "       13, 17, 13, 24, -1, 10, 38, 48, 40, -1, 10, 48,  1, 31, 20, 13, -1,\n",
       "       23, -1, 28, 46, 15, -1,  5, 13, 43, 35, 13, 34, 31, 22,  4, -1, 30,\n",
       "       14, -1, -1,  7, 13, 12, 10, 45, -1, -1, 13, 17, 43, -1, 25, 43,  1,\n",
       "       -1, 34, 45, 13, 44, -1,  5, -1, 34, 20, 13, 28, 28, -1, -1, 11, 24,\n",
       "       10, 32, -1, -1, -1, -1, -1, 13, 48, 13,  2, 22, 32, 42, -1, 18, 45,\n",
       "       34, -1, -1, -1, 16,  6, -1, 14, -1, 14,  6, -1, 13, -1, 36, -1,  4,\n",
       "       10, 34, 14, -1, 36, 28, -1, 45, -1, 13, 33, 44, 29, 28, -1, 45, 35,\n",
       "       -1, 13, -1, -1,  1, 11,  1, -1, 26, 43, 35, 41, 34, -1, -1, 36, 34,\n",
       "       -1, 24, 13, -1, -1, -1, -1,  3, -1, 36, -1,  9, -1, -1, -1, 34, 21,\n",
       "        5, -1, 12, 42, 13,  4, 33, -1, 20, -1, 13, 34, -1, 40, 13, 22, -1,\n",
       "       16, 32,  9, -1, 47,  3, -1, 10,  9, 48,  5, -1, 21,  6, 13, -1, 34,\n",
       "       -1, 10, 37, -1, 22,  0,  1,  9, 17, 18, 19, 22, -1, 12, 37, 27, 20,\n",
       "        0, -1,  0, -1, 13, 31, -1, -1,  4,  1, 44, -1,  3, 22,  3,  6, 15,\n",
       "       -1, 13, 12, 34,  5,  8, 36, 31, 31, 13,  2, 25, 34, -1, 22, 18, 34,\n",
       "       13,  0, 13,  6,  0, 44, 42, 34, -1, 34, 22, -1, -1, 39,  7, 13, 31,\n",
       "       13, 31, 25, -1, 29, 13, 13, 32, -1, 12, 13,  6, -1,  1,  1,  3, 48,\n",
       "       12,  8, -1, 24, 24, -1, 48, 13, 33, 48, 21, 36,  1, -1, 15, 32, 41,\n",
       "       12,  0, 45, 18, -1, 44, 38, 34, -1, 47, 47, 47, 19, -1,  1, 31, 33,\n",
       "       39, -1,  0,  1, 31, 22, 10,  0, 32, -1, -1, 19, 33, 13, -1, 12, -1,\n",
       "       36, 27, 14, -1,  3, 21, 46, 41,  6, 39, -1, -1, 32, 11, 18, 12, -1,\n",
       "       24, 13, -1, 25,  0,  0,  7, 43,  4, 21, -1, -1, -1, 36, 21, 30, 22,\n",
       "       29, -1, 44, 24, -1,  1, 37,  6, 32,  1, -1, 44, 39, 18, 13, 13, -1,\n",
       "       -1, 22,  5, -1, -1, 27, 18, -1, -1, 48, 18, 45, 14, 14, 20, 16, 35,\n",
       "        1, 25, 28, 36, -1, 36, 48, -1, -1, -1, 34, 21, 34, 34, 10, 13, 41,\n",
       "       10, 28, 30, 16, -1, 32, -1, 37, 13, 42, 28, 13, 21,  3, 11, 48, 13,\n",
       "       30, -1,  8, 14, 13, 48, 42, 48, -1, -1, 25, -1, -1, 13, -1, 36, 10,\n",
       "       28, 16, 42, 36, 42, 48, 34, 17, 39,  5, 20, 13, -1, -1, 13, -1, -1,\n",
       "       13, 13,  7, -1, 30, 21, 37, 44, -1, 13, 38, 20,  6, 13, 18, -1, -1,\n",
       "       -1, 28, -1, 15, 21, 20, -1, 22, -1, -1,  9, 34, 18, -1, 35, 45, -1,\n",
       "       27, 32, -1, 31,  2, 36, -1,  9, 18, 14, 24,  4, 14, 48, 15, -1, -1,\n",
       "       -1, 13, -1, 25, 10,  2,  0, 38, 10])"
      ]
     },
     "execution_count": 47,
     "metadata": {},
     "output_type": "execute_result"
    }
   ],
   "source": [
    "clusterer.labels_"
   ]
  },
  {
   "cell_type": "code",
   "execution_count": 48,
   "metadata": {},
   "outputs": [
    {
     "data": {
      "text/plain": [
       "array([-1,  0,  1,  2,  3,  4,  5,  6,  7,  8,  9, 10, 11, 12, 13, 14, 15,\n",
       "       16, 17, 18, 19, 20, 21, 22, 23, 24, 25, 26, 27, 28, 29, 30, 31, 32,\n",
       "       33, 34, 35, 36, 37, 38, 39, 40, 41, 42, 43, 44, 45, 46, 47, 48])"
      ]
     },
     "execution_count": 48,
     "metadata": {},
     "output_type": "execute_result"
    }
   ],
   "source": [
    "np.unique(clusterer.labels_)"
   ]
  },
  {
   "cell_type": "code",
   "execution_count": 49,
   "metadata": {},
   "outputs": [],
   "source": [
    "# write clusterer.labels_ to a csv file\n",
    "np.savetxt(\"./posts/reddit-hdbscan5.csv\", clusterer.labels_, delimiter=\",\", header=\"cluster\", comments=\"\")"
   ]
  },
  {
   "cell_type": "code",
   "execution_count": null,
   "metadata": {},
   "outputs": [],
   "source": []
  }
 ],
 "metadata": {
  "kernelspec": {
   "display_name": ".venv",
   "language": "python",
   "name": "python3"
  },
  "language_info": {
   "codemirror_mode": {
    "name": "ipython",
    "version": 3
   },
   "file_extension": ".py",
   "mimetype": "text/x-python",
   "name": "python",
   "nbconvert_exporter": "python",
   "pygments_lexer": "ipython3",
   "version": "3.10.8"
  },
  "orig_nbformat": 4,
  "vscode": {
   "interpreter": {
    "hash": "a504dee660566446df2f91fe5b609b06cbc1041b7b3061db9e0bfa927aa17f57"
   }
  }
 },
 "nbformat": 4,
 "nbformat_minor": 2
}
