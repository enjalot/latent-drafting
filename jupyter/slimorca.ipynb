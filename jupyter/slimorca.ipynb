{
 "cells": [
  {
   "cell_type": "code",
   "execution_count": 1,
   "metadata": {},
   "outputs": [],
   "source": [
    "import pandas as pd\n",
    "import jsonlines"
   ]
  },
  {
   "cell_type": "code",
   "execution_count": 2,
   "metadata": {},
   "outputs": [],
   "source": [
    "\n",
    "rows = []\n",
    "with jsonlines.open('../data/oo-labeled_correct.gpt4.sharegpt.jsonl') as reader:\n",
    "    for arr in reader:\n",
    "      length = len(arr[\"conversations\"])\n",
    "      row = {\n",
    "         \"human\": \"\",\n",
    "         \"system\": \"\",\n",
    "         \"gpt\": \"\",\n",
    "         \"length\": length,\n",
    "      }\n",
    "\n",
    "      for o in arr[\"conversations\"]:\n",
    "        if o['from'] == \"human\":\n",
    "            row['human'] = o['value']\n",
    "            row['human_weight'] = o['weight']\n",
    "        if o['from'] == \"system\":\n",
    "            row['system'] = o['value']\n",
    "            \n",
    "        if o['from'] == \"gpt\":\n",
    "            row['gpt'] = o['value']\n",
    "            row['gpt_weight'] = o['weight']\n",
    "      rows.append(row)\n"
   ]
  },
  {
   "cell_type": "code",
   "execution_count": 3,
   "metadata": {},
   "outputs": [
    {
     "data": {
      "text/plain": [
       "517982"
      ]
     },
     "execution_count": 3,
     "metadata": {},
     "output_type": "execute_result"
    }
   ],
   "source": [
    "len(rows)"
   ]
  },
  {
   "cell_type": "code",
   "execution_count": 4,
   "metadata": {},
   "outputs": [],
   "source": [
    "df = pd.DataFrame(rows)"
   ]
  },
  {
   "cell_type": "code",
   "execution_count": 5,
   "metadata": {},
   "outputs": [
    {
     "data": {
      "text/html": [
       "<div>\n",
       "<style scoped>\n",
       "    .dataframe tbody tr th:only-of-type {\n",
       "        vertical-align: middle;\n",
       "    }\n",
       "\n",
       "    .dataframe tbody tr th {\n",
       "        vertical-align: top;\n",
       "    }\n",
       "\n",
       "    .dataframe thead th {\n",
       "        text-align: right;\n",
       "    }\n",
       "</style>\n",
       "<table border=\"1\" class=\"dataframe\">\n",
       "  <thead>\n",
       "    <tr style=\"text-align: right;\">\n",
       "      <th></th>\n",
       "      <th>human</th>\n",
       "      <th>system</th>\n",
       "      <th>gpt</th>\n",
       "      <th>length</th>\n",
       "      <th>human_weight</th>\n",
       "      <th>gpt_weight</th>\n",
       "    </tr>\n",
       "  </thead>\n",
       "  <tbody>\n",
       "    <tr>\n",
       "      <th>0</th>\n",
       "      <td>Write an article based on this \"A man has been...</td>\n",
       "      <td>You are an AI assistant. You will be given a t...</td>\n",
       "      <td>Title: Tragedy Strikes in Sydney: Victims Stab...</td>\n",
       "      <td>3</td>\n",
       "      <td>0.0</td>\n",
       "      <td>1.0</td>\n",
       "    </tr>\n",
       "    <tr>\n",
       "      <th>1</th>\n",
       "      <td>Answer the following question: - number is 54 ...</td>\n",
       "      <td>You are an AI assistant that follows instructi...</td>\n",
       "      <td>The information provided seems to refer to Ria...</td>\n",
       "      <td>3</td>\n",
       "      <td>0.0</td>\n",
       "      <td>1.0</td>\n",
       "    </tr>\n",
       "    <tr>\n",
       "      <th>2</th>\n",
       "      <td>Produce a long descriptive sentence that uses ...</td>\n",
       "      <td>You are an AI assistant. You will be given a t...</td>\n",
       "      <td>Stretching across a vast areaOfLand, totaling ...</td>\n",
       "      <td>3</td>\n",
       "      <td>0.0</td>\n",
       "      <td>1.0</td>\n",
       "    </tr>\n",
       "    <tr>\n",
       "      <th>3</th>\n",
       "      <td>Write a title for this article:\\n\\nArbitration...</td>\n",
       "      <td>You are a helpful assistant, who always provid...</td>\n",
       "      <td>\"The Sneaky Clauses Taking Away Your Day in Co...</td>\n",
       "      <td>3</td>\n",
       "      <td>0.0</td>\n",
       "      <td>1.0</td>\n",
       "    </tr>\n",
       "    <tr>\n",
       "      <th>4</th>\n",
       "      <td>Definition: In this task, you are given a hate...</td>\n",
       "      <td>You are an AI assistant. User will you give yo...</td>\n",
       "      <td>geopolitical\\n\\nStep 1: Understand the text\\nI...</td>\n",
       "      <td>3</td>\n",
       "      <td>0.0</td>\n",
       "      <td>1.0</td>\n",
       "    </tr>\n",
       "  </tbody>\n",
       "</table>\n",
       "</div>"
      ],
      "text/plain": [
       "                                               human  \\\n",
       "0  Write an article based on this \"A man has been...   \n",
       "1  Answer the following question: - number is 54 ...   \n",
       "2  Produce a long descriptive sentence that uses ...   \n",
       "3  Write a title for this article:\\n\\nArbitration...   \n",
       "4  Definition: In this task, you are given a hate...   \n",
       "\n",
       "                                              system  \\\n",
       "0  You are an AI assistant. You will be given a t...   \n",
       "1  You are an AI assistant that follows instructi...   \n",
       "2  You are an AI assistant. You will be given a t...   \n",
       "3  You are a helpful assistant, who always provid...   \n",
       "4  You are an AI assistant. User will you give yo...   \n",
       "\n",
       "                                                 gpt  length  human_weight  \\\n",
       "0  Title: Tragedy Strikes in Sydney: Victims Stab...       3           0.0   \n",
       "1  The information provided seems to refer to Ria...       3           0.0   \n",
       "2  Stretching across a vast areaOfLand, totaling ...       3           0.0   \n",
       "3  \"The Sneaky Clauses Taking Away Your Day in Co...       3           0.0   \n",
       "4  geopolitical\\n\\nStep 1: Understand the text\\nI...       3           0.0   \n",
       "\n",
       "   gpt_weight  \n",
       "0         1.0  \n",
       "1         1.0  \n",
       "2         1.0  \n",
       "3         1.0  \n",
       "4         1.0  "
      ]
     },
     "execution_count": 5,
     "metadata": {},
     "output_type": "execute_result"
    }
   ],
   "source": [
    "df.head()"
   ]
  },
  {
   "cell_type": "code",
   "execution_count": null,
   "metadata": {},
   "outputs": [],
   "source": [
    "df = df[['human', 'system', 'gpt']]\n"
   ]
  },
  {
   "cell_type": "code",
   "execution_count": 8,
   "metadata": {},
   "outputs": [],
   "source": [
    "df.to_parquet(\"../../latent-scope/data/slimorca/input.parquet\")"
   ]
  },
  {
   "cell_type": "code",
   "execution_count": 11,
   "metadata": {},
   "outputs": [],
   "source": [
    "dfh = df[['human']]\n"
   ]
  },
  {
   "cell_type": "code",
   "execution_count": 13,
   "metadata": {},
   "outputs": [],
   "source": [
    "dfh.to_parquet(\"../../latent-scope/data/slimorca-human/input.parquet\")"
   ]
  },
  {
   "cell_type": "code",
   "execution_count": null,
   "metadata": {},
   "outputs": [],
   "source": []
  }
 ],
 "metadata": {
  "kernelspec": {
   "display_name": "pynotebooks",
   "language": "python",
   "name": "python3"
  },
  "language_info": {
   "codemirror_mode": {
    "name": "ipython",
    "version": 3
   },
   "file_extension": ".py",
   "mimetype": "text/x-python",
   "name": "python",
   "nbconvert_exporter": "python",
   "pygments_lexer": "ipython3",
   "version": "3.10.8"
  }
 },
 "nbformat": 4,
 "nbformat_minor": 2
}
